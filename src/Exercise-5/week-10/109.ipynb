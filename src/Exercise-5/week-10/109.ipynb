{
 "cells": [
  {
   "cell_type": "markdown",
   "metadata": {},
   "source": [
    "## Loops and Lists"
   ]
  },
  {
   "cell_type": "markdown",
   "metadata": {},
   "source": [
    "#### A for loop executes once _for_ each item in a collection. The collection can be a range of integers constructed by calling the _range_ function. It can also be a list. The following example uses a _for_ loop to total the values in _data_.\n",
    "\n",
    "### Initialize data and total\n",
    "data = [2.71, 3.14, 1.41, 1.62]\n",
    "total = 0\n",
    "### Total the values in data\n",
    "for value in data:\n",
    "total = total + value\n",
    "### Display the total\n",
    "print(\"The total is\", total)"
   ]
  },
  {
   "cell_type": "markdown",
   "metadata": {},
   "source": [
    "#### This program begins by initializing _data_ and _total_ to the values shown. Then the for loop begins to execute. The first value in _data_ is copied into _value_ and then the body of the loop runs. It adds _value_ to the total. Once the body of the loop has executed for the first time control returns to the top of the loop. The second element in _data_ is copied into _value_, and the loop body executes again which adds this new value to the _total_. This process continues until the While loops can also be used when working with lists. For example, the following code segment uses a while loop to identify the index of the first positive value in a list. The loop uses a variable, i, which holds the indices of the elements in the list, starting from 0. The value in i increases as the program runs until either the end of the list is reached or a positive element is found."
   ]
  },
  {
   "cell_type": "markdown",
   "metadata": {},
   "source": [
    "#### Initialize data\n",
    "$ data = [0, -1, 4, 1, 0] $\n",
    "##### Loop while i is a valid index and the value at index i is not a positive value\n",
    "$\n",
    "i = 0\n",
    "while i < len(data) and data[i] <= 0:\n",
    "i = i + 1 \n",
    "$\n",
    "##### If i is less than the length of data then the loop terminated because a positive number was\n",
    "##### found. Otherwise i will be equal to the length of data, indicating that a positive number\n",
    "##### was not found.\n",
    "$\n",
    "if i < len(data):\n",
    "print(\"The first positive number is at index\", i)\n",
    "else:\n",
    "print(\"The list does not contain a positive number\")\n",
    "$"
   ]
  },
  {
   "cell_type": "markdown",
   "metadata": {},
   "source": [
    "#### When this program executes it begins by initializing data and i. Then the while loop’s condition is evaluated. The value of i, which is 0, is less than the length of data, and the element at position i is 0, which is less than or equal to 0. As a result, the condition evaluates to True, the body of the loop executes, and the value of i increases from 0 to 1.\n",
    "\n",
    "#### Control returns to the top of the while loop and its condition is evaluated again. The value stored in i is still less than the length of data and the value at position i in the list is still less than or equal to 0. As a result, the loop condition still evaluates to True. This causes the body of the loop to execute again, which increases the value of i from 1 to 2.\n",
    "\n",
    "#### When i is 2 the loop condition evaluates to False because the element at position i is greater than or equal to 0. The loop body is skipped and execution continues with the if statement. It’s condition evaluates to True because i is less than the length of data. As a result, the body of the if part executes and the index of the first positive number in data, which is 2, is displayed."
   ]
  },
  {
   "cell_type": "code",
   "execution_count": null,
   "metadata": {},
   "outputs": [],
   "source": []
  }
 ],
 "metadata": {
  "language_info": {
   "name": "python"
  }
 },
 "nbformat": 4,
 "nbformat_minor": 2
}
