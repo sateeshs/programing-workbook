{
 "cells": [
  {
   "cell_type": "markdown",
   "metadata": {},
   "source": [
    "## Additional List Operations"
   ]
  },
  {
   "cell_type": "markdown",
   "metadata": {},
   "source": [
    "#### Lists can grow and shrink as a program runs. A new element can be inserted at any location in the list, and an element can be deleted based on its value or its index. Python also provides mechanisms for determining whether or not an element is present in a list, finding the index of the first occurrence of an element in a list,rearranging the elements in a list, and many other useful tasks.\n",
    "\n",
    "#### Tasks like inserting a new element into a list and removing an element from a list are performed by applying a method to a list. Much like a function, a method is a collection of statements that can be called upon to perform a task. However, the syntax used to apply a method to a list is slightly different from the syntax used to call a function.\n",
    "\n",
    "#### A method is applied to a list by using a statement that consists of a variable containing a list,2 followed by a period, followed by the method’s name. Like a function call, the name of the method is followed by parentheses that surround a comma separated collection of arguments. Some methods return a result. This result can be stored in a variable using an assignment statement, passed as an argument to another method or function call, or used as part of a calculation, just like the result returned by a function."
   ]
  },
  {
   "cell_type": "markdown",
   "metadata": {},
   "source": [
    "## Adding Elements to a List"
   ]
  },
  {
   "cell_type": "markdown",
   "metadata": {},
   "source": [
    "#### Elements can be added to the end of an existing list by calling the append method. It takes one argument, which is the element that will be added to the list. For example, consider the following program:\n",
    "$$\n",
    "data = [2.71, 3.14, 1.41, 1.62]\n",
    "$$\n",
    "$$\n",
    "data.append(2.30)\n",
    "$$\n",
    "$$\n",
    "print(data)\n",
    "$$"
   ]
  },
  {
   "cell_type": "markdown",
   "metadata": {},
   "source": [
    "#### The first line creates a new list of 4 elements and stores it in data. Then the append method is applied to data which increases its length from 4 to 5 by adding 2.30 to the end of the list. Finally, the list, which now contains 2.71, 3.14, 1.41, 1.62, and 2.30, is printed. Elements can be inserted at any location in a list using the insert method. It requires two arguments, which are the index at which the element will be inserted and its value. When an element is inserted any elements to the right of the insertion point have their index increased by 1 so that there is an index available for the new element. For example, the following code segment inserts 2.30 in the middle of data instead of appending it to the end of the list. When this code segment executes it will\n",
    "$display [2.71, 3.14, 2.30, 1.41, 1.62].$\n",
    "$$\n",
    "data = [2.71, 3.14, 1.41, 1.62]\n",
    "$$\n",
    "$$\n",
    "data.insert(2, 2.30)\n",
    "$$\n",
    "$$\n",
    "print(data)\n",
    "$$"
   ]
  },
  {
   "cell_type": "markdown",
   "metadata": {},
   "source": [
    "## Removing Elements from a List"
   ]
  },
  {
   "cell_type": "markdown",
   "metadata": {},
   "source": [
    "#### The pop method is used to remove an element at a particular index from a list. The index of the element to remove is provided as an optional argument to pop. If the argument is omitted then pop removes the last element from the list. The pop method returns the value that was removed from the list as its only result. When this value is needed for a subsequent calculation it can be stored into a variable by calling pop on the right side of an assignment statement. Applying pop to an empty list is an error, as is attempting to remove an element from an index that is beyond the end of the list.\n",
    "\n",
    "#### A value can also be removed from a list by calling the remove method. It’s only argument is the value to remove (rather than the index of the value to remove). When the remove method executes it removes the first occurrence of its argument from the list. An error will be reported if the value passed to remove is not present in the list.\n",
    "\n",
    "#### Consider the following example. It creates a list, and then removes two elements from it. When the first print statement executes it displays [2.71, 3.14] because 1.62 and 1.41 were removed from the list. The second print statement displays 1.41 because 1.41 was the last element in the list when the pop method was applied to it."
   ]
  },
  {
   "cell_type": "markdown",
   "metadata": {},
   "source": [
    "$$data = [2.71, 3.14, 1.41, 1.62]$$\n",
    "#### Remove 1.62 from the list\n",
    "$$\n",
    "data.remove(1.62)$$\n",
    "#### Remove the last element from the list\n",
    "$$\n",
    "last = data.pop()\n",
    "$$\n",
    "$$\n",
    "print(data)\n",
    "$$\n",
    "$$\n",
    "print(last)\n",
    "$$"
   ]
  },
  {
   "cell_type": "markdown",
   "metadata": {},
   "source": [
    "## Rearranging the Elements in a List"
   ]
  },
  {
   "cell_type": "markdown",
   "metadata": {},
   "source": []
  },
  {
   "cell_type": "markdown",
   "metadata": {},
   "source": [
    "#### Sometimes a list has all of the correct elements in it, but they aren’t in the order\n",
    "needed to solve a particular problem. Two elements in a list can be swapped using\n",
    "a series of assignment statements that read from and write to individual elements in\n",
    "the list, as shown in the following code segment."
   ]
  },
  {
   "cell_type": "markdown",
   "metadata": {},
   "source": [
    "#### # Create a list\n",
    "$\n",
    "data = [2.71, 3.14, 1.41, 1.62]\n",
    "$\n",
    "#### Swap the element at index 1 with the element at index 3\n",
    "$\n",
    "temp = data[1]\n",
    "$\n",
    "data[1] = data[3]\n",
    "$\n",
    "data[3] = temp\n",
    "$\n",
    "#### Display the modified list\n",
    "$\n",
    "print(data)\n",
    "$\n",
    "When these statements execute data is initialized to [2.71, 3.14, 1.41,\n",
    "1.62]. Then the value at index 1, which is 3.14, is copied into temp. This is followed by a line which copies the value at index 3 to index 1. Finally, the value in\n",
    "temp is copied into the list at index 3. When the print statement executes it displays\n",
    "[2.71, 1.62, 1.41, 3.14].\n",
    "There are two methods that rearrange the elements in a list. The reverse method\n",
    "reverses the order of the elements in the list, and the sort method sorts the elements\n",
    "into ascending order. Both reverse and sort can be applied to a list without\n",
    "providing any arguments.3\n",
    "The following example reads a collection of numbers from the user and stores\n",
    "them in a list. Then it displays all of the values in sorted order."
   ]
  },
  {
   "cell_type": "markdown",
   "metadata": {},
   "source": [
    "#### Create a new, empty list\n",
    "values = []\n",
    "#### Read values from the user and store them in a list until a blank line is entered\n",
    "$\n",
    "line = input(\"Enter a number (blank line to quit): \")\n",
    "$\n",
    "$\n",
    "while line != \"\":\n",
    "$\n",
    "num = float(line)\n",
    "$\n",
    "$\n",
    "values.append(num)\n",
    "$\n",
    "line = input(\"Enter a number (blank line to quit): \")\n",
    "$\n",
    "#### Sort the values into ascending order\n",
    "$\n",
    "values.sort()\n",
    "$\n",
    "#### Display the values\n",
    "$\n",
    "for v in values:\n",
    "$\n",
    "$\n",
    "print(v)\n",
    "$\n"
   ]
  },
  {
   "cell_type": "markdown",
   "metadata": {},
   "source": []
  }
 ],
 "metadata": {
  "language_info": {
   "name": "python"
  }
 },
 "nbformat": 4,
 "nbformat_minor": 2
}
