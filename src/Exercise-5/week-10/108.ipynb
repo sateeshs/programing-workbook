{
 "cells": [
  {
   "cell_type": "markdown",
   "metadata": {},
   "source": [
    "# 5.1 Accessing Individual Elements"
   ]
  },
  {
   "cell_type": "markdown",
   "metadata": {},
   "source": [
    "#### Each value in a list is referred to as an element. The elements in a list are numbered sequentially with integers, starting from 0. Each integer identifies a specific element in the list, and is referred to as the index for that element. In the previous code segment the element at index 0 in data is 2.71 while the element at index 3 is 1.62.\n",
    "\n",
    "#### An individual list element is accessed by using the list’s name, immediately followed by the element’s index enclosed in square brackets. For example, the fol-lowing statements use this notation to display 3.14. Notice that printing the element at index 1 displays the second element in the list because the first element in the list has index 0.\n",
    "\n",
    "$$\n",
    "data = [2.71, 3.14, 1.41, 1.62]\n",
    "$$\n",
    "$$\n",
    "print(data[1])\n",
    "$$"
   ]
  },
  {
   "cell_type": "markdown",
   "metadata": {},
   "source": [
    "### An individual list element can be updated using an assignment statement. The name of the list, followed by the element’s index enclosed in square brackets, appears to the left of the assignment operator. The new value that will be stored at that index appears to the assignment operator’s right. When the assignment statement executes, the element previously stored at the indicated index is overwritten with the new value. The other elements in the list are not impacted by this change. Consider the following example. It creates a list that contains four elements, and then it replaces the element at index 2 with 2.30. When the print statement executes it will display all of the values in the list. Those values are 2.71, 3.14, 2.30 and 1.62.\n",
    "\n",
    "$$\n",
    "data = [2.71, 3.14, 1.41, 1.62]\n",
    "$$\n",
    "$$\n",
    "data[2] = 2.30\n",
    "$$\n",
    "$$\n",
    "print(data)\n",
    "$$"
   ]
  },
  {
   "cell_type": "code",
   "execution_count": null,
   "metadata": {},
   "outputs": [],
   "source": [
    "### "
   ]
  }
 ],
 "metadata": {
  "language_info": {
   "name": "python"
  }
 },
 "nbformat": 4,
 "nbformat_minor": 2
}
