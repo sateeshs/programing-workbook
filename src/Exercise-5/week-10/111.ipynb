{
 "cells": [
  {
   "cell_type": "markdown",
   "metadata": {},
   "source": [
    "## Searching a List"
   ]
  },
  {
   "cell_type": "markdown",
   "metadata": {},
   "source": [
    "#### Sometimes we need to determine whether or not a particular value is present in a list. In other situations, we might want to determine the index of a value that is already known to be present in a list. Python’s in operator and index method allow us to perform these tasks.\n",
    "\n",
    "#### The in operator is used to determine whether or not a value is present in a list. The value that is being searched for is placed to the left of the operator. The list that is being searched is placed to the operator’s right. Such an expression evaluates to True if the value is present in the list. Otherwise it evaluates to False.\n",
    "\n",
    "#### The index method is used to identify the position of a particular value within a list. This value is passed to index as its only argument. The index of the first occurrence of the value in the list is returned as the method’s result. It is an error to call the index method with an argument that is not present in the list. As a result, programmers sometimes use the in operator to determine whether or not a value is present in a list and then use the index method to determine it’s location.\n",
    "\n",
    "#### The following example demonstrates several of the methods and operators intro-duced in this section. It begins by reading integers from the user and storing them in a list. Then one additional integer is read from the user. The position of the first occurrence of this additional integer in the list of values is reported (if it is present).An appropriate message is displayed if the additional integer is not present in the list of values entered by the user."
   ]
  },
  {
   "cell_type": "markdown",
   "metadata": {},
   "source": [
    "#### Read integers from the user until a blank line is entered and store them all in data\n",
    "$\n",
    "data = []\n",
    "$\n",
    "$\n",
    "line = input(\"Enter an integer (blank line to finish): \")\n",
    "$\n",
    "$\n",
    "while line != \"\":\n",
    "$\n",
    "$\n",
    "n = int(line)\n",
    "$\n",
    "$\n",
    "data.append(n)\n",
    "$\n",
    "$\n",
    "line = input(\"Enter an integer (blank line to finish): \")\n",
    "$\n",
    "#### Read an additional integer from the user\n",
    "$\n",
    "x = int(input(\"Enter one additional integer: \"))\n",
    "$\n",
    "\n",
    "#### Display the index of the first occurrence of x (if it is present in the list)\n",
    "$\n",
    "if x in data:\n",
    "$\n",
    "$\n",
    "print(\"The first\", x, \"is at index\", data.index(x))\n",
    "$\n",
    "$\n",
    "else:\n",
    "$\n",
    "$\n",
    "print(x, \"is not in the list\")\n",
    "$"
   ]
  },
  {
   "cell_type": "markdown",
   "metadata": {},
   "source": [
    "# Lists as Return Values and Arguments"
   ]
  },
  {
   "cell_type": "markdown",
   "metadata": {},
   "source": [
    "#### Lists can be returned from functions. Like values of other types, a list is returned from a function using the return keyword. When the return statement executes, the function terminates and the list is returned to the location where the function was called. Then the list can be stored in a variable or used in a calculation. Lists can also be passed as arguments to functions. Like values of other types, any lists being passed to a function are included inside the parentheses that follow the function’s name when it is called. Each argument, whether it is a list or a value of another type, appears in the corresponding parameter variable inside the function. Parameter variables that contain lists can be used in the body of a function just like parameter variables that contain values of other types. However, unlike an integer, floating-point number, string or Boolean value, changes made to a list parameter variable can impact the argument passed to the function, in addition to the value stored in the parameter variable. In particular, a change made to a list using a method (such as append, pop or sort) will change the value of both the parameter variable and the argument that was provided when the function was called.\n",
    "\n",
    "#### Updates performed on individual list elements (where the name of the list, fol lowed by an index enclosed in square brackets, appears on the left side of an assign ment operator) also modify both the parameter variable and the argument that was provided when the function was called. However, assignments to the entire list (where only the name of the list appears to the left of the assignment operator) only impact the parameter variable. Such assignments do not impact the argument provided when the function was called.\n",
    "\n",
    "#### The differences in behavior between list parameters and parameters of other types may seem arbitrary, as might the choice to have some changes apply to both the parameter variable and the argument while others only change the parameter variable. However, this is not the case. There are important technical reasons for these differences, but those details are beyond the scope of a brief introduction to Python."
   ]
  },
  {
   "cell_type": "markdown",
   "metadata": {},
   "source": []
  }
 ],
 "metadata": {
  "language_info": {
   "name": "python"
  }
 },
 "nbformat": 4,
 "nbformat_minor": 2
}
