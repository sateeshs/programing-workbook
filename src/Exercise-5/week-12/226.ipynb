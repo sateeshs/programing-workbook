{
 "cells": [
  {
   "cell_type": "markdown",
   "metadata": {},
   "source": [
    "## Line of Best Fit\n",
    "\n",
    "<p>A line of best fit is a straight line that best approximates a collection of n data points.\n",
    "In this exercise, we will assume that each point in the collection has an x coordinate\n",
    "and a y coordinate. The symbols <i>x̄</i> and <i>ȳ</i> are used to represent the average <i>x</i> value in\n",
    "the collection and the average y value in the collection respectively. The line of best\n",
    "fit is represented by the equation <i>y = mx + b</i> where <i>m</i> and <i>b</i> are calculated using\n",
    "the following formulas</p>\n"
   ]
  },
  {
   "cell_type": "markdown",
   "metadata": {},
   "source": [
    "---\n",
    "$$\n",
    "\n",
    "m = \\frac{\\sum(xy) - \\frac{(\\sum(x))(\\sum(y))}{n}} {\\sum(x^{2}) - \\frac{(\\sum(x))^{2}}{n}}\n",
    "\n",
    "$$\n",
    "---\n",
    "$$\n",
    "b = ȳ − m x̄\n",
    "$$"
   ]
  },
  {
   "cell_type": "markdown",
   "metadata": {},
   "source": [
    "<p>Write a program that reads a collection of points from the user. The user will enter\n",
    "the first x coordinate on its own line, followed by the first y coordinate on its own\n",
    "line. Allow the user to continue entering coordinates, with the x and y values each\n",
    "entered on their own line, until your program reads a blank line for the x coordinate.\n",
    "Display the formula for the line of best fit in the form <i>y = mx + b</i> by replacing m\n",
    "and b with the values calculated by the preceding formulas. For example, if the user\n",
    "inputs the coordinates (1, 1), (2, 2.1) and (3, 2.9) then your program should display\n",
    "<i>y = 0.95x + 0.1.</i></p>"
   ]
  },
  {
   "cell_type": "code",
   "execution_count": null,
   "metadata": {},
   "outputs": [],
   "source": [
    "## Line of Best Fit"
   ]
  },
  {
   "cell_type": "code",
   "execution_count": null,
   "metadata": {},
   "outputs": [],
   "source": []
  }
 ],
 "metadata": {
  "language_info": {
   "name": "python"
  }
 },
 "nbformat": 4,
 "nbformat_minor": 2
}
