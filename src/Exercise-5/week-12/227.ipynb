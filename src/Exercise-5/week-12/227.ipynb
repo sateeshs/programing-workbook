{
 "cells": [
  {
   "cell_type": "markdown",
   "metadata": {},
   "source": [
    "### Shuffling a Deck of Cards\n",
    "<p>A standard deck of playing cards contains 52 cards. Each card has one of four suits\n",
    "along with a value. The suits are normally spades, hearts, diamonds and clubs while\n",
    "the values are 2 through 10, Jack, Queen, King and Ace.\n",
    "Each playing card can be represented using two characters. The first character is\n",
    "the value of the card, with the values 2 through 9 being represented directly. The\n",
    "characters “T”, “J”, “Q”, “K” and “A” are used to represent the values 10, Jack,\n",
    "Queen, King and Ace respectively. The second character is used to represent the suit\n",
    "of the card. It is normally a lowercase letter: “s” for spades, “h” for hearts, “d” for\n",
    "diamonds and “c” for clubs. The following table provides several examples of cards\n",
    "and their two-character representations.</p>"
   ]
  },
  {
   "cell_type": "markdown",
   "metadata": {},
   "source": [
    "|Card | Abbreviation|\n",
    "| ----| ------|  \n",
    "|Jack of spades|Js  |\n",
    "|Two of clubs| 2c |\n",
    "|Ten of diamonds|Td |\n",
    "|Ace of hearts|  Ah |\n",
    "|Nine of spades| 9s |\n",
    "<p>Begin by writing a function named <i>createDeck</i>. It will use loops to create a\n",
    "complete deck of cards by storing the two-character abbreviations for all 52 cards\n",
    "into a list. Return the list of cards as the function’s only result. Your function will\n",
    "not require any parameters.</p>\n",
    "<p>Write a second function named <i>shuffle</i> that randomizes the order of the cards\n",
    "in a list. One technique that can be used to shuffle the cards is to visit each element\n",
    "in the list and swap it with another random element in the list. You must write your\n",
    "own loop for shuffling the cards. You cannot make use of Python’s built-in shuffle\n",
    "function.</p>\n",
    "\n",
    "<p>Use both of the functions described in the previous paragraphs to create a main\n",
    "program that displays a deck of cards before and after it has been shuffled. Ensure\n",
    "that your main program only runs when your functions have not been imported into\n",
    "another file.</p>\n",
    "\n",
    "\n",
    "<p>A good shuffling algorithm is unbiased, meaning that every different arrange-\n",
    "ment of the elements is equally probable when the algorithm completes. While\n",
    "the approach described earlier in this problem suggested visiting each element\n",
    "in sequence and swapping it with an element at a random index, such an algo-\n",
    "rithm is biased. In particular, elements that appear later in the original list are\n",
    "more likely to end up later in the shuffled list. Counterintuitively, an unbiased\n",
    "shuffle can be achieved by visiting each element in sequence and swapping it\n",
    "to a random index between the position of the current element and the end of\n",
    "the list instead of randomly selecting any index.</p>"
   ]
  },
  {
   "cell_type": "code",
   "execution_count": null,
   "metadata": {},
   "outputs": [],
   "source": []
  }
 ],
 "metadata": {
  "language_info": {
   "name": "python"
  }
 },
 "nbformat": 4,
 "nbformat_minor": 2
}
