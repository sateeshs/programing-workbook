{
 "cells": [
  {
   "cell_type": "markdown",
   "metadata": {},
   "source": [
    "## Infix to Postfix\n",
    "<p>Mathematical expressions are often written in infix form, where operators appear\n",
    "between the operands on which they act. While this is a common form, it is also\n",
    "possible to express mathematical expressions in postfix form, where the operator\n",
    "appears after all of its operands. For example, the infix expression 3 + 4 is written\n",
    "as 3 4 + in postfix form. One can convert an infix expression to postfix form using\n",
    "the following algorithm:</p>"
   ]
  },
  {
   "cell_type": "markdown",
   "metadata": {},
   "source": [
    "```{prf:algorithm} Ford–Fulkerson\n",
    "\n",
    "**For** each token in the infix expression\n",
    "    **If** the token is an integer **then**\n",
    "        Append the token to postfix\n",
    "    **If** the token is an operator **then**\n",
    "        **While** operators is not empty and\n",
    "                the last item in operators is not an open parenthesis and\n",
    "                precedence(token) < precedence(last item in operators) **do**\n",
    "            Remove the last item from operators and append it to postfix\n",
    "        Append the token to operators\n",
    "    **If** the token is an open parenthesis **then**\n",
    "        Append the token to operators\n",
    "    **If** the token is a close parenthesis **then**\n",
    "        **While** the last item in operators is not an open parenthesis **do**\n",
    "            Remove the last item from operators and append it to postfix\n",
    "        Remove the open parenthesis from operators\n",
    "\n",
    "**While** operators is not the empty list **do**\n",
    "    Remove the last item from operators and append it to postfix\n",
    "**Return** postfix as the result of the algorithm\n",
    "\n",
    "```"
   ]
  },
  {
   "cell_type": "markdown",
   "metadata": {},
   "source": []
  },
  {
   "cell_type": "markdown",
   "metadata": {},
   "source": []
  },
  {
   "cell_type": "code",
   "execution_count": null,
   "metadata": {},
   "outputs": [],
   "source": []
  }
 ],
 "metadata": {
  "language_info": {
   "name": "python"
  }
 },
 "nbformat": 4,
 "nbformat_minor": 2
}
