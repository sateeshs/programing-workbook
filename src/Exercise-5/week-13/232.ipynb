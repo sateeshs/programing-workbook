{
 "cells": [
  {
   "cell_type": "markdown",
   "metadata": {},
   "source": [
    "## Infix to Postfix\n",
    "<p>Mathematical expressions are often written in infix form, where operators appear\n",
    "between the operands on which they act. While this is a common form, it is also\n",
    "possible to express mathematical expressions in postfix form, where the operator\n",
    "appears after all of its operands. For example, the infix expression 3 + 4 is written\n",
    "as 3 4 + in postfix form. One can convert an infix expression to postfix form using\n",
    "the following algorithm:</p>"
   ]
  },
  {
   "cell_type": "markdown",
   "metadata": {},
   "source": [
    "```{prf:algorithm} Ford–Fulkerson\n",
    "\n",
    "**For** each token in the infix expression\n",
    "    **If** the token is an integer **then**\n",
    "        Append the token to postfix\n",
    "    **If** the token is an operator **then**\n",
    "        **While** operators is not empty and\n",
    "                the last item in operators is not an open parenthesis and\n",
    "                precedence(token) < precedence(last item in operators) **do**\n",
    "            Remove the last item from operators and append it to postfix\n",
    "        Append the token to operators\n",
    "    **If** the token is an open parenthesis **then**\n",
    "        Append the token to operators\n",
    "    **If** the token is a close parenthesis **then**\n",
    "        **While** the last item in operators is not an open parenthesis **do**\n",
    "            Remove the last item from operators and append it to postfix\n",
    "        Remove the open parenthesis from operators\n",
    "\n",
    "**While** operators is not the empty list **do**\n",
    "    Remove the last item from operators and append it to postfix\n",
    "**Return** postfix as the result of the algorithm\n",
    "\n",
    "```"
   ]
  },
  {
   "cell_type": "markdown",
   "metadata": {},
   "source": [
    "<p>Use your solutions to Exercises 129 and 130 to tokenize a mathematical expression\n",
    "and identify any unary operators in it. Then use the algorithm above to transform the\n",
    "expression from infix form to postfix form. Your code that implements the preceding\n",
    "algorithm should reside in a function that takes a list of tokens representing an\n",
    "infix expression (with the unary operators marked) as its only parameter. It should\n",
    "return a list of tokens representing the equivalent postfix expression as its only result.\n",
    "Include a main program that demonstrates your infix to postfix function by reading\n",
    "an expression from the user in infix form and displaying it in postfix form.</p>\n",
    "\n",
    "<p>The purpose of converting from infix form to postfix form will become apparent\n",
    "when you read Exercise 132. You may find your solutions to Exercises 96 and 97\n",
    "helpful when completing this problem. While you should be able to use your solution\n",
    "to Exercise 96 without any modifications, your solution to Exercise 97 will need to\n",
    "be extended so that it returns the correct precedence for the unary operators. The\n",
    "unary operators should have higher precedence than multiplication and division, but\n",
    "lower precedence than exponentiation.</p>"
   ]
  },
  {
   "cell_type": "markdown",
   "metadata": {},
   "source": []
  },
  {
   "cell_type": "code",
   "execution_count": null,
   "metadata": {},
   "outputs": [],
   "source": []
  }
 ],
 "metadata": {
  "language_info": {
   "name": "python"
  }
 },
 "nbformat": 4,
 "nbformat_minor": 2
}
