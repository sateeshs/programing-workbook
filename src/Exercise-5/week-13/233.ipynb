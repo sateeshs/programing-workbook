{
 "cells": [
  {
   "cell_type": "markdown",
   "metadata": {},
   "source": [
    "## Evaluate Postfix"
   ]
  },
  {
   "cell_type": "markdown",
   "metadata": {},
   "source": [
    "<p>Evaluating a postfix expression is easier than evaluating an infix expression because\n",
    "it does not contain any parentheses and there are no operator precedence rules to\n",
    "consider. A postfix expression can be evaluated using the following algorithm:</p>"
   ]
  },
  {
   "cell_type": "markdown",
   "metadata": {},
   "source": [
    "```\n",
    "Create a new empty list, values\n",
    "\n",
    "For each token in the postfix expression\n",
    "    If the token is a number then\n",
    "        Convert it to an integer and append it to values\n",
    "    Else if the token is a unary minus then\n",
    "        Remove an item from the end of values\n",
    "        Negate the item and append the result of the negation to values\n",
    "    Else if the token is a binary operator then\n",
    "        Remove an item from the end of values and call it right\n",
    "        Remove an item from the end of values and call it left\n",
    "        Compute the result of applying the operator to left and right\n",
    "        Append the result to values\n",
    "\n",
    "        \n",
    "Return the first item in values as the value of the expression\n",
    "```"
   ]
  },
  {
   "cell_type": "code",
   "execution_count": null,
   "metadata": {},
   "outputs": [],
   "source": []
  }
 ],
 "metadata": {
  "language_info": {
   "name": "python"
  }
 },
 "nbformat": 4,
 "nbformat_minor": 2
}
