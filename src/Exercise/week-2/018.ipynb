{
 "cells": [
  {
   "cell_type": "markdown",
   "metadata": {},
   "source": [
    "The ideal gas law is a mathematical approximation of the behavior of gasses as\n",
    "pressure, volume and temperature change. It is usually stated as:\n",
    "---\n",
    "$$PV = nRT$$\n",
    "---\n",
    "\n",
    "where P is the pressure in Pascals, V is the volume in liters, n is the amount of\n",
    "substance in moles, R is the ideal gas constant, equal to $$8.314 J/ mol K $$, and T is the\n",
    "temperature in degrees Kelvin.\n",
    "\n",
    "Write a program that computes the amount of gas in moles when the user supplies\n",
    "the pressure, volume and temperature. Test your program by determining the number\n",
    "of moles of gas in a SCUBA tank. A typical SCUBA tank holds 12 liters of gas at\n",
    "a pressure of 20,000,000 Pascals (approximately 3,000 PSI). Room temperature is\n",
    "approximately 20 degrees Celsius or 68 degrees Fahrenheit.\n",
    "\n",
    "---\n",
    "Hint: A temperature is converted from Celsius to Kelvin by adding 273.15\n",
    "to it. To convert a temperature from Fahrenheit to Kelvin, deduct 32 from it,\n",
    "multiply it by $$5/9$$ and then add 273.15 to it."
   ]
  },
  {
   "cell_type": "code",
   "execution_count": null,
   "metadata": {},
   "outputs": [],
   "source": []
  }
 ],
 "metadata": {
  "language_info": {
   "name": "python"
  }
 },
 "nbformat": 4,
 "nbformat_minor": 2
}
