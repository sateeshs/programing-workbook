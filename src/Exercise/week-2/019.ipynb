{
 "cells": [
  {
   "cell_type": "markdown",
   "metadata": {},
   "source": [
    "#Area of a Triangle"
   ]
  },
  {
   "cell_type": "markdown",
   "metadata": {},
   "source": [
    "The area of a triangle can be computed using the following formula, where b is the\n",
    "length of the base of the triangle, and h is its height:\n",
    "---\n",
    "$$area = b×h / \n",
    "2$$\n",
    "---\n",
    "Write a program that allows the user to enter values for b and h. The program should\n",
    "then compute and display the area of a triangle with base length b and height h."
   ]
  },
  {
   "cell_type": "code",
   "execution_count": null,
   "metadata": {},
   "outputs": [],
   "source": []
  }
 ],
 "metadata": {
  "language_info": {
   "name": "python"
  }
 },
 "nbformat": 4,
 "nbformat_minor": 2
}
