{
 "cells": [
  {
   "cell_type": "code",
   "execution_count": null,
   "metadata": {},
   "outputs": [],
   "source": [
    "# Body Mass Index"
   ]
  },
  {
   "cell_type": "markdown",
   "metadata": {},
   "source": [
    "Write a program that computes the body mass index (BMI) of an individual. Your\n",
    "program should begin by reading a height and weight from the user. Then it should\n",
    "use one of the following two formulas to compute the BMI before displaying it. If\n",
    "you read the height in inches and the weight in pounds then body mass index is\n",
    "computed using the following formula:\n",
    "---\n",
    "$$\n",
    "BMI = \\frac{weight} {height × height}\n",
    "\n",
    "× 703\n",
    "$$\n",
    "---\n",
    "\n",
    "If you read the height in meters and the weight in kilograms then body mass index\n",
    "is computed using this slightly simpler formula:\n",
    "---\n",
    "$$\n",
    "BMI = \\frac{weight} {height × height}\n",
    "$$\n",
    "---"
   ]
  },
  {
   "cell_type": "code",
   "execution_count": null,
   "metadata": {},
   "outputs": [],
   "source": []
  }
 ],
 "metadata": {
  "language_info": {
   "name": "python"
  }
 },
 "nbformat": 4,
 "nbformat_minor": 2
}
