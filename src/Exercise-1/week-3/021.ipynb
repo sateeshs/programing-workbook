{
 "cells": [
  {
   "cell_type": "code",
   "execution_count": null,
   "metadata": {},
   "outputs": [],
   "source": [
    "# Area of a Regular Polygon"
   ]
  },
  {
   "cell_type": "markdown",
   "metadata": {},
   "source": [
    "A polygon is regular if its sides are all the same length and the angles between all of\n",
    "the adjacent sides are equal. The area of a regular polygon can be computed using\n",
    "the following formula, where s is the length of a side and n is the number of sides:\n",
    "\n",
    "---\n",
    "$$\n",
    "area = \\frac{n * S^2} {4 * tan(π/n)}\n",
    "$$\n",
    "---\n",
    "Write a program that reads s and n from the user and then displays the area of a\n",
    "regular polygon constructed from these values."
   ]
  },
  {
   "cell_type": "code",
   "execution_count": null,
   "metadata": {},
   "outputs": [],
   "source": []
  }
 ],
 "metadata": {
  "language_info": {
   "name": "python"
  }
 },
 "nbformat": 4,
 "nbformat_minor": 2
}
