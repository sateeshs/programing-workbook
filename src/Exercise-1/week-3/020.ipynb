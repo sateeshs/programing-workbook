{
 "cells": [
  {
   "cell_type": "markdown",
   "metadata": {},
   "source": [
    "#Area of a Triangle (Again)\n",
    "In the previous exercise you created a program that computed the area of a triangle\n",
    "when the length of its base and its height were known. It is also possible to compute\n",
    "the area of a triangle when the lengths of all three sides are known. Let s1 , s2 and s3\n",
    "be the lengths of the sides. Let $$s = (s1 + s2 + s3 )/2$$. Then the area of the triangle\n",
    "can be calculated using the following formula:\n",
    "---\n",
    "$$\n",
    "area =  \\sqrt{s × (s − s1 ) × (s − s2 ) × (s − s3 )}\n",
    "$$\n",
    "---\n",
    "Develop a program that reads the lengths of the sides of a triangle from the user and\n",
    "displays its area."
   ]
  },
  {
   "cell_type": "code",
   "execution_count": null,
   "metadata": {},
   "outputs": [],
   "source": []
  },
  {
   "cell_type": "code",
   "execution_count": null,
   "metadata": {},
   "outputs": [],
   "source": []
  }
 ],
 "metadata": {
  "language_info": {
   "name": "python"
  }
 },
 "nbformat": 4,
 "nbformat_minor": 2
}
