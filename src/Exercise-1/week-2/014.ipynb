{
 "cells": [
  {
   "cell_type": "code",
   "execution_count": null,
   "metadata": {},
   "outputs": [],
   "source": [
    "# Area and Volume"
   ]
  },
  {
   "cell_type": "markdown",
   "metadata": {},
   "source": [
    "Write a program that begins by reading a radius, r , from the user. The program will\n",
    "continue by computing and displaying the area of a circle with radius r and the\n",
    "volume of a sphere with radius r . Use the pi constant in the math module in your\n",
    "calculations.\n",
    "\n",
    "---\n",
    "Hint: The area of a circle is computed using the formula area = $$πr^2$$ . The\n",
    "volume of a sphere is computed using the formula volume = $$4/3 πr^3$$ .\n",
    "---"
   ]
  },
  {
   "cell_type": "code",
   "execution_count": null,
   "metadata": {},
   "outputs": [],
   "source": []
  }
 ],
 "metadata": {
  "language_info": {
   "name": "python"
  }
 },
 "nbformat": 4,
 "nbformat_minor": 2
}
