{
 "cells": [
  {
   "cell_type": "markdown",
   "metadata": {},
   "source": [
    "Create a program that determines how quickly an object is travelling when it hits the\n",
    "ground. The user will enter the height from which the object is dropped in meters (m).\n",
    "Because the object is dropped its initial speed is 0 m/s. Assume\n",
    "that the acceleration\n",
    "\u0002\n",
    "due to gravity is $$9.8 m/s^2$$ . You can use the formula $$vf = \\sqrt{v_i^2 + 2ad}$$ to compute the\n",
    "final speed, vf , when the initial speed, vi , acceleration, a, and distance, d, are known."
   ]
  },
  {
   "cell_type": "code",
   "execution_count": null,
   "metadata": {},
   "outputs": [],
   "source": []
  }
 ],
 "metadata": {
  "language_info": {
   "name": "python"
  }
 },
 "nbformat": 4,
 "nbformat_minor": 2
}
